{
 "cells": [
  {
   "cell_type": "code",
   "execution_count": 1,
   "id": "07a711c0",
   "metadata": {},
   "outputs": [
    {
     "name": "stdout",
     "output_type": "stream",
     "text": [
      "Synonyms for 'good': {'beneficial', 'skilful', 'upright', 'undecomposed', 'skillful', 'unspoiled', 'just', 'safe', 'full', 'expert', 'serious', 'soundly', 'well', 'dear', 'thoroughly', 'practiced', 'commodity', 'proficient', 'ripe', 'salutary', 'right', 'good', 'goodness', 'respectable', 'sound', 'dependable', 'honest', 'secure', 'in_effect', 'adept', 'honorable', 'effective', 'in_force', 'estimable', 'near', 'trade_good', 'unspoilt'}\n"
     ]
    }
   ],
   "source": [
    "from nltk.corpus import wordnet\n",
    "\n",
    "# Find synonyms for a word\n",
    "synonyms = []\n",
    "for syn in wordnet.synsets(\"good\"):\n",
    "    for lemma in syn.lemmas():\n",
    "        synonyms.append(lemma.name())\n",
    "\n",
    "print(\"Synonyms for 'good':\", set(synonyms))"
   ]
  },
  {
   "cell_type": "code",
   "execution_count": 2,
   "id": "fb7d6ba3",
   "metadata": {},
   "outputs": [
    {
     "name": "stdout",
     "output_type": "stream",
     "text": [
      "Antonyms for 'good': {'bad', 'ill', 'badness', 'evilness', 'evil'}\n"
     ]
    }
   ],
   "source": [
    "# Find antonyms for a word\n",
    "antonyms = []\n",
    "for syn in wordnet.synsets(\"good\"):\n",
    "    for lemma in syn.lemmas():\n",
    "        if lemma.antonyms():\n",
    "            antonyms.append(lemma.antonyms()[0].name())\n",
    "print(\"Antonyms for 'good':\", set(antonyms))"
   ]
  },
  {
   "cell_type": "code",
   "execution_count": 3,
   "id": "576767c4",
   "metadata": {},
   "outputs": [
    {
     "name": "stdout",
     "output_type": "stream",
     "text": [
      "\n",
      "Definition: benefit\n",
      "Examples: ['for your own good', \"what's the good of worrying?\"]\n",
      "\n",
      "Definition: moral excellence or admirableness\n",
      "Examples: ['there is much good to be found in people']\n",
      "\n",
      "Definition: that which is pleasing or valuable or useful\n",
      "Examples: ['weigh the good against the bad', 'among the highest goods of all are happiness and self-realization']\n",
      "\n",
      "Definition: articles of commerce\n",
      "Examples: []\n",
      "\n",
      "Definition: having desirable or positive qualities especially those suitable for a thing specified\n",
      "Examples: ['good news from the hospital', 'a good report card', 'when she was good she was very very good', 'a good knife is one good for cutting', 'this stump will make a good picnic table', 'a good check', 'a good joke', 'a good exterior paint', 'a good secretary', 'a good dress for the office']\n",
      "\n",
      "Definition: having the normally expected amount\n",
      "Examples: ['gives full measure', 'gives good measure', 'a good mile from here']\n",
      "\n",
      "Definition: morally admirable\n",
      "Examples: []\n",
      "\n",
      "Definition: deserving of esteem and respect\n",
      "Examples: ['all respectable companies give guarantees', \"ruined the family's good name\"]\n",
      "\n",
      "Definition: promoting or enhancing well-being\n",
      "Examples: ['an arms limitation agreement beneficial to all countries', 'the beneficial effects of a temperate climate', 'the experience was good for her']\n",
      "\n",
      "Definition: agreeable or pleasing\n",
      "Examples: ['we all had a good time', 'good manners']\n",
      "\n",
      "Definition: of moral excellence\n",
      "Examples: ['a genuinely good person', 'a just cause', 'an upright and respectable man']\n",
      "\n",
      "Definition: having or showing knowledge and skill and aptitude\n",
      "Examples: ['adept in handicrafts', 'an adept juggler', 'an expert job', 'a good mechanic', 'a practiced marksman', 'a proficient engineer', 'a lesser-known but no less skillful composer', 'the effect was achieved by skillful retouching']\n",
      "\n",
      "Definition: thorough\n",
      "Examples: ['had a good workout', 'gave the house a good cleaning']\n",
      "\n",
      "Definition: with or in a close or intimate relationship\n",
      "Examples: ['a good friend', 'my sisters and brothers are near and dear']\n",
      "\n",
      "Definition: financially sound\n",
      "Examples: ['a good investment', 'a secure investment']\n",
      "\n",
      "Definition: most suitable or right for a particular purpose\n",
      "Examples: ['a good time to plant tomatoes', 'the right time to act', 'the time is ripe for great sociological changes']\n",
      "\n",
      "Definition: resulting favorably\n",
      "Examples: [\"it's a good thing that I wasn't there\", 'it is good that you stayed', 'it is well that no one saw you', \"all's well that ends well\"]\n",
      "\n",
      "Definition: exerting force or influence\n",
      "Examples: ['the law is effective immediately', 'a warranty good for two years', 'the law is already in effect (or in force)']\n",
      "\n",
      "Definition: capable of pleasing\n",
      "Examples: ['good looks']\n",
      "\n",
      "Definition: appealing to the mind\n",
      "Examples: ['good music', 'a serious book']\n",
      "\n",
      "Definition: in excellent physical condition\n",
      "Examples: ['good teeth', 'I still have one good leg', 'a sound mind in a sound body']\n",
      "\n",
      "Definition: tending to promote physical well-being; beneficial to health\n",
      "Examples: ['beneficial effects of a balanced diet', \"a good night's sleep\", 'the salutary influence of pure air']\n",
      "\n",
      "Definition: not forged\n",
      "Examples: ['a good dollar bill']\n",
      "\n",
      "Definition: not left to spoil\n",
      "Examples: ['the meat is still good']\n",
      "\n",
      "Definition: generally admired\n",
      "Examples: ['good taste']\n",
      "\n",
      "Definition: (often used as a combining form) in a good or proper or satisfactory manner or to a high standard (`good' is a nonstandard dialectal variant for `well')\n",
      "Examples: ['the children behaved well', 'a task well done', 'the party went well', 'he slept well', 'a well-argued thesis', 'a well-seasoned dish', 'a well-planned party', 'the baby can walk pretty good']\n",
      "\n",
      "Definition: completely and absolutely (`good' is sometimes used informally for `thoroughly')\n",
      "Examples: ['he was soundly defeated', 'we beat him good']\n"
     ]
    }
   ],
   "source": [
    "# Find definitions and examples for a word\n",
    "for syn in wordnet.synsets(\"good\"):\n",
    "    print(\"\\nDefinition:\", syn.definition())\n",
    "    print(\"Examples:\", syn.examples())"
   ]
  },
  {
   "cell_type": "code",
   "execution_count": 4,
   "id": "e93d928b",
   "metadata": {},
   "outputs": [
    {
     "name": "stdout",
     "output_type": "stream",
     "text": [
      "\n",
      "Hypernym: Synset('canine.n.02')\n",
      "\n",
      "Hypernym: Synset('domestic_animal.n.01')\n",
      "\n",
      "Hypernym: Synset('unpleasant_woman.n.01')\n",
      "\n",
      "Hypernym: Synset('chap.n.01')\n",
      "\n",
      "Hypernym: Synset('villain.n.01')\n",
      "\n",
      "Hypernym: Synset('sausage.n.01')\n",
      "\n",
      "Hypernym: Synset('catch.n.06')\n",
      "\n",
      "Hypernym: Synset('support.n.10')\n",
      "\n",
      "Hypernym: Synset('pursue.v.02')\n"
     ]
    }
   ],
   "source": [
    "# Find hypernyms (more abstract terms) for a word\n",
    "#Hypernyms: Hypernyms are words that have a more general meaning than a given word and can be thought of as the \"superordinate\" or \"parent\" terms. For example, \"animal\" is a hypernym of \"dog\" because \"dog\" is a type of \"animal.\" \n",
    "\n",
    "for syn in wordnet.synsets(\"dog\"):\n",
    "    for hypernym in syn.hypernyms():\n",
    "        print(\"\\nHypernym:\", hypernym)"
   ]
  },
  {
   "cell_type": "code",
   "execution_count": 5,
   "id": "1880a6f4",
   "metadata": {},
   "outputs": [
    {
     "name": "stdout",
     "output_type": "stream",
     "text": [
      "\n",
      "Hyponym: Synset('basenji.n.01')\n",
      "\n",
      "Hyponym: Synset('corgi.n.01')\n",
      "\n",
      "Hyponym: Synset('cur.n.01')\n",
      "\n",
      "Hyponym: Synset('dalmatian.n.02')\n",
      "\n",
      "Hyponym: Synset('great_pyrenees.n.01')\n",
      "\n",
      "Hyponym: Synset('griffon.n.02')\n",
      "\n",
      "Hyponym: Synset('hunting_dog.n.01')\n",
      "\n",
      "Hyponym: Synset('lapdog.n.01')\n",
      "\n",
      "Hyponym: Synset('leonberg.n.01')\n",
      "\n",
      "Hyponym: Synset('mexican_hairless.n.01')\n",
      "\n",
      "Hyponym: Synset('newfoundland.n.01')\n",
      "\n",
      "Hyponym: Synset('pooch.n.01')\n",
      "\n",
      "Hyponym: Synset('poodle.n.01')\n",
      "\n",
      "Hyponym: Synset('pug.n.01')\n",
      "\n",
      "Hyponym: Synset('puppy.n.01')\n",
      "\n",
      "Hyponym: Synset('spitz.n.01')\n",
      "\n",
      "Hyponym: Synset('toy_dog.n.01')\n",
      "\n",
      "Hyponym: Synset('working_dog.n.01')\n",
      "\n",
      "Hyponym: Synset('perisher.n.01')\n",
      "\n",
      "Hyponym: Synset('vienna_sausage.n.01')\n",
      "\n",
      "Hyponym: Synset('hound.v.01')\n",
      "\n",
      "Hyponym: Synset('quest.v.02')\n",
      "\n",
      "Hyponym: Synset('run_down.v.07')\n",
      "\n",
      "Hyponym: Synset('tree.v.03')\n"
     ]
    }
   ],
   "source": [
    "# Find hyponyms (more specific terms) for a word\n",
    "#Hyponyms: Hyponyms are words that have a more specific meaning than a given word and can be thought of as the \"subordinate\" or \"child\" terms. For example, \"dog\" is a hyponym of \"animal\" because \"dog\" is a specific type of \"animal.\" \n",
    "\n",
    "for syn in wordnet.synsets(\"dog\"):\n",
    "    for hyponym in syn.hyponyms():\n",
    "        print(\"\\nHyponym:\", hyponym)"
   ]
  },
  {
   "cell_type": "code",
   "execution_count": null,
   "id": "60f90358",
   "metadata": {},
   "outputs": [],
   "source": []
  }
 ],
 "metadata": {
  "kernelspec": {
   "display_name": "Python 3 (ipykernel)",
   "language": "python",
   "name": "python3"
  },
  "language_info": {
   "codemirror_mode": {
    "name": "ipython",
    "version": 3
   },
   "file_extension": ".py",
   "mimetype": "text/x-python",
   "name": "python",
   "nbconvert_exporter": "python",
   "pygments_lexer": "ipython3",
   "version": "3.10.9"
  }
 },
 "nbformat": 4,
 "nbformat_minor": 5
}
